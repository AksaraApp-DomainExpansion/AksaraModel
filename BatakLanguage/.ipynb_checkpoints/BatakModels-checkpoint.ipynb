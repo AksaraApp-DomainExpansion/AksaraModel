{
 "cells": [
  {
   "cell_type": "code",
   "execution_count": 1,
   "metadata": {
    "ExecuteTime": {
     "end_time": "2023-07-08T16:09:27.250727800Z",
     "start_time": "2023-07-08T16:09:26.442511800Z"
    }
   },
   "outputs": [],
   "source": [
    "%matplotlib inline\n",
    "import matplotlib.pyplot as plt\n",
    "import numpy as np\n",
    "# import cv2\n",
    "from skimage.morphology import skeletonize"
   ]
  },
  {
   "cell_type": "code",
   "execution_count": null,
   "metadata": {},
   "outputs": [],
   "source": [
    "Karo = ['A','Ba','Ca','Da','Ga','I','Ja','Ka','La','Ma','Na','Nga','Pa','Ra','Sa','Ta','U','Wa','Ya']\n",
    "Mandailing = ['A','Ba','Ca','Da','Ga','Ha','I','Ja','Ka','La','Ma','Na','Nga','Nya','Pa','Ra','Sa','Ta','U','Wa','Ya']\n",
    "Pakpak = ['A','Ba','Da','Ga','I','Ja','Ka','La','Ma','Na','Nga','Pa','Ra','Sa','Ta','U','Wa','Ya']\n",
    "Simalungun = ['A','Ba','Da','Ga','Ha','I','Ja','La','Ma','Mba','Na','Nda','Nga','Nya','Pa','Ra','Sa','Ta','U','Wa','Ya']\n",
    "Toba = ['A','Ba','Da','Ga','Ha','I','Ja','Ka','La','Ma','Na','Nga','Nya','Pa','Ra','Sa','Ta','U','Wa','Ya']\n",
    "print(\"Total Huruf\")\n",
    "print(\"Huruf Karo : \"+str(str(Karo).count(\",\")+1))\n",
    "print(\"Huruf Mandailing : \"+str(str(Mandailing).count(\",\")+1))\n",
    "print(\"Huruf Pakpak : \"+str(str(Pakpak).count(\",\")+1))\n",
    "print(\"Huruf Simalungun : \"+str(str(Simalungun).count(\",\")+1))\n",
    "print(\"Huruf Toba : \"+str(str(Toba).count(\",\")+1))"
   ]
  },
  {
   "cell_type": "code",
   "execution_count": null,
   "metadata": {},
   "outputs": [],
   "source": [
    "#FUNGSI UNTUK MELAKUKAN PREPROCESSING\n",
    "def preprocessing(image):\n",
    "    image = np.uint8(image) #Convert to unsigned integer 8\n",
    "    image = cv2.cvtColor(image, cv2.COLOR_BGR2GRAY) #Grayscalling\n",
    "    ret,image = cv2.threshold(image,150,255,cv2.THRESH_BINARY) #To Binary\n",
    "    P = image.shape[0]\n",
    "    Q = image.shape[1]\n",
    "    for p in range(0,P):\n",
    "        for q in range(0,Q):\n",
    "            if image[p,q] == 255:\n",
    "                image[p,q] = 0\n",
    "            elif image[p,q] == 0:\n",
    "                image[p,q] = 1\n",
    "    skeleton = skeletonize(image)\n",
    "    return 1*skeleton"
   ]
  },
  {
   "cell_type": "code",
   "execution_count": null,
   "metadata": {},
   "outputs": [],
   "source": [
    "hurufkaro = {'A':{},'Ba':{},'Ca':{} ,'Da':{} ,'Ga':{} ,'I':{} ,'Ja':{} ,'Ka':{} ,'La':{} ,'Ma':{} ,'Na':{} ,'Nga':{} ,'Pa':{} ,'Ra':{} ,'Sa':{} ,'Ta':{} ,'U':{} ,'Wa':{} ,'Ya':{} }\n",
    "hurufmandailing = {'A':{},'Ba':{} ,'Ca':{} ,'Da':{} ,'Ga':{} ,'Ha':{} ,'I':{} ,'Ja':{} ,'Ka':{},'La':{},'Ma':{},'Na':{},'Nga':{},'Nya':{},'Pa':{},'Ra':{},'Sa':{},'Ta':{},'U':{} ,'Wa':{} ,'Ya':{}}\n",
    "hurufpakpak = {'A':{},'Ba':{} ,'Da':{} ,'Ga':{} ,'I':{} ,'Ja':{} ,'Ka':{} ,'La':{} ,'Ma':{} ,'Na':{} ,'Nga':{} ,'Pa':{} ,'Ra':{} ,'Sa':{} ,'Ta':{},'U':{},'Wa':{},'Ya':{}}\n",
    "hurufsimalungun = {'A': {}, 'Ba': {}, 'Da': {}, 'Ga': {}, 'Ha': {}, 'I': {}, 'Ja': {}, 'La': {}, 'Ma': {}, 'Mba': {}, 'Na': {}, 'Nda':{}, 'Nga': {}, 'Nya': {} , 'Pa': {}, 'Ra': {}, 'Sa':{}, 'Ta': {}, 'U': {}, 'Wa': {}, 'Ya': {} }\n",
    "huruftoba = {'A':{},'Ba':{},'Da':{},'Ga':{},'Ha':{},'I':{},'Ja':{},'Ka':{},'La':{},'Ma':{},'Na':{},'Nga':{},'Nya':{},'Pa':{},'Ra':{},'Sa':{},'Ta':{},'U':{},'Wa':{},'Ya':{} }\n",
    "surat_batak = [\n",
    "    'Karo',\n",
    "    'Mandailing',\n",
    "    'Pakpak',\n",
    "    'Simalungun',\n",
    "    'Toba'\n",
    "]\n",
    "\n",
    "for surat in surat_batak:\n",
    "    list_surat = locals()[surat]\n",
    "    for i in list_surat:\n",
    "        for a in range(1,11):\n",
    "            alamat = '../DatasetBatakLanguage/'+str(surat)+' Final/'+str(i)+'/'+str(a)+'.png'\n",
    "            img = cv2.imread(alamat)\n",
    "            if surat == 'Karo':\n",
    "                hurufkaro[i][str(a)] = preprocessing(img)\n",
    "            elif surat == 'Mandailing':\n",
    "                hurufmandailing[i][str(a)] = preprocessing(img)\n",
    "            elif surat == 'Pakpak':\n",
    "                hurufpakpak[i][str(a)] = preprocessing(img)\n",
    "            elif surat == 'Simalungun':\n",
    "                hurufsimalungun[i][str(a)] = preprocessing(img)\n",
    "            elif surat == 'Toba':\n",
    "                huruftoba[i][str(a)] = preprocessing(img)"
   ]
  },
  {
   "cell_type": "code",
   "execution_count": null,
   "metadata": {},
   "outputs": [],
   "source": [
    "f, axarr = plt.subplots(4, 5)\n",
    "no = 0\n",
    "for baris in range(0,4):\n",
    "    for kolom in range(0,5):\n",
    "        axarr[baris, kolom].imshow(huruftoba[Toba[no]]['1'],cmap='gray')\n",
    "        axarr[baris, kolom].set_title(Toba[no])\n",
    "        no = no+1\n",
    "f.subplots_adjust(hspace=0.9)"
   ]
  },
  {
   "cell_type": "code",
   "execution_count": null,
   "metadata": {},
   "outputs": [],
   "source": [
    "print('Total Karakter Pada Dataset : '+str(99*10))\n",
    "print('Masing-masing karakter memiliki 10 sample 7 untuk ditraining dan 2 untuk testing');\n",
    "\n",
    "jml_karo = str(Karo).count(\",\")+1\n",
    "jml_mand = str(Mandailing).count(\",\")+1\n",
    "jml_pak  = str(Pakpak).count(\",\")+1\n",
    "jml_sim  = str(Simalungun).count(\",\")+1\n",
    "jml_toba = str(Toba).count(\",\")+1\n",
    "total = jml_karo + jml_mand + jml_pak + jml_sim + jml_toba;\n",
    "print(\"Jumlalh yang digunakan : \"+str(total))\n"
   ]
  },
  {
   "cell_type": "code",
   "execution_count": null,
   "metadata": {},
   "outputs": [],
   "source": [
    "def make_a(image):\n",
    "    P = image.shape[0]\n",
    "    Q = image.shape[1]\n",
    "    inp_new = 0*image\n",
    "    for p in range(1,P-1):\n",
    "        for q in range(1, Q-1):\n",
    "            if image[p,q] == 1:\n",
    "                if (image[p-1,q-1] != 0 or image[p+1,q+1] != 0):\n",
    "                    image[p,q] = 5\n",
    "                if (image[p-1, q] != 0 or image[p+1, q] != 0):\n",
    "                    image[p,q] = 2\n",
    "                if (image[p-1,q+1] != 0 or image[p+1,q-1] != 0):\n",
    "                    image[p,q] = 3\n",
    "                if (image[p, q-1] != 0 or image[p,q+1] != 0):\n",
    "                    image[p,q] = 4\n",
    "    return image"
   ]
  },
  {
   "cell_type": "code",
   "execution_count": null,
   "metadata": {},
   "outputs": [],
   "source": [
    "karo_arah = {'A':{},'Ba':{},'Ca':{} ,'Da':{} ,'Ga':{} ,'I':{} ,'Ja':{} ,'Ka':{} ,'La':{} ,'Ma':{} ,'Na':{} ,'Nga':{} ,'Pa':{} ,'Ra':{} ,'Sa':{} ,'Ta':{} ,'U':{} ,'Wa':{} ,'Ya':{} }\n",
    "mandailing_arah = {'A':{},'Ba':{} ,'Ca':{} ,'Da':{} ,'Ga':{} ,'Ha':{} ,'I':{} ,'Ja':{} ,'Ka':{},'La':{},'Ma':{},'Na':{},'Nga':{},'Nya':{},'Pa':{},'Ra':{},'Sa':{},'Ta':{},'U':{} ,'Wa':{} ,'Ya':{}}\n",
    "pakpak_arah = {'A':{},'Ba':{} ,'Da':{} ,'Ga':{} ,'I':{} ,'Ja':{} ,'Ka':{} ,'La':{} ,'Ma':{} ,'Na':{} ,'Nga':{} ,'Pa':{} ,'Ra':{} ,'Sa':{} ,'Ta':{},'U':{},'Wa':{},'Ya':{}}\n",
    "simalungun_arah = {'A': {}, 'Ba': {}, 'Da': {}, 'Ga': {}, 'Ha': {}, 'I': {}, 'Ja': {}, 'Ka': {}, 'La': {}, 'Ma': {}, 'Mba': {}, 'Na': {}, 'Nda':{}, 'Nga': {}, 'Nya': {} , 'Pa': {}, 'Ra': {}, 'Sa':{}, 'Ta': {}, 'U': {}, 'Wa': {}, 'Ya': {} }\n",
    "toba_arah = {'A':{},'Ba':{},'Da':{},'Ga':{},'Ha':{},'I':{},'Ja':{},'Ka':{},'La':{},'Ma':{},'Na':{},'Nga':{},'Nya':{},'Pa':{},'Ra':{},'Sa':{},'Ta':{},'U':{},'Wa':{},'Ya':{} }\n",
    "\n",
    "def dfeprocess(arah):\n",
    "    tot = 11\n",
    "    if arah == 'Karo':\n",
    "        for i in Karo:\n",
    "            for a in range(1,tot):\n",
    "                karo_arah[i][str(a)] = make_a(hurufkaro[i][str(a)])\n",
    "    elif arah == 'Mandailing':\n",
    "        for i in Mandailing:\n",
    "            for a in range(1,tot):\n",
    "                mandailing_arah[i][str(a)] = make_a(hurufmandailing[i][str(a)])\n",
    "    elif arah == 'Pakpak':\n",
    "        for i in Pakpak:\n",
    "            for a in range(1,tot):\n",
    "                pakpak_arah[i][str(a)] = make_a(hurufpakpak[i][str(a)])\n",
    "    elif arah == 'Simalungun':\n",
    "        for i in Simalungun:\n",
    "            for a in range(1,tot):\n",
    "                simalungun_arah[i][str(a)] = make_a(hurufsimalungun[i][str(a)])\n",
    "    elif arah == 'Toba':\n",
    "        for i in Toba:\n",
    "            for a in range(1,tot):\n",
    "                toba_arah[i][str(a)] = make_a(huruftoba[i][str(a)])\n",
    "\n",
    "for x in surat_batak:\n",
    "    dfeprocess(x)"
   ]
  },
  {
   "cell_type": "code",
   "execution_count": null,
   "metadata": {},
   "outputs": [],
   "source": [
    "print(toba_arah['A']['10'])"
   ]
  },
  {
   "cell_type": "code",
   "execution_count": null,
   "metadata": {},
   "outputs": [],
   "source": [
    "dtset_karo = []\n",
    "dtset_mandailing = []\n",
    "dtset_pakpak = []\n",
    "dtset_simalungun = []\n",
    "dtset_toba = []\n",
    "tot = 8\n",
    "for i in Karo:\n",
    "    for a in range(1,tot):\n",
    "        dtset_karo.append(i)\n",
    "for i in Mandailing:\n",
    "    for a in range(1,tot):\n",
    "        dtset_mandailing.append(i)\n",
    "for i in Pakpak:\n",
    "    for a in range(1,tot):\n",
    "        dtset_pakpak.append(i)\n",
    "for i in Simalungun:\n",
    "    for a in range(1,tot):\n",
    "        dtset_simalungun.append(i)\n",
    "for i in Toba:\n",
    "    for a in range(1,tot):\n",
    "        dtset_toba.append(i)"
   ]
  },
  {
   "cell_type": "code",
   "execution_count": null,
   "metadata": {},
   "outputs": [],
   "source": [
    "def count_kode_arah(image_label):\n",
    "    P = image_label.shape[0]\n",
    "    Q = image_label.shape[1]\n",
    "    inp_new = 0*image_label\n",
    "    K = [0,0,0,0,0,0,0,0]\n",
    "    for p in range(1,P-1):\n",
    "        for q in range(1, Q-1):\n",
    "            if image_label[p,q] == 2:\n",
    "                K[0] = K[0] + 1\n",
    "                K[4] = K[4] + image_label[p,q]\n",
    "            if image_label[p,q] == 3:\n",
    "                K[1] = K[1] + 1\n",
    "                K[5] = K[5] + image_label[p,q]\n",
    "            if image_label[p,q] == 4:\n",
    "                K[2] = K[2] + 1\n",
    "                K[6] = K[6] + image_label[p,q]\n",
    "            if image_label[p,q] == 5:\n",
    "                K[3] = K[3] + 1\n",
    "                K[7] = K[7] + image_label[p,q]\n",
    "    K[0] = K[0]/P\n",
    "    K[1] = K[1]/P\n",
    "    K[2] = K[2]/P\n",
    "    K[3] = K[3]/P\n",
    "    K[4] = K[4]/P\n",
    "    K[5] = K[5]/P\n",
    "    K[6] = K[6]/P\n",
    "    K[7] = K[7]/P\n",
    "    return K"
   ]
  },
  {
   "cell_type": "code",
   "execution_count": null,
   "metadata": {},
   "outputs": [],
   "source": [
    "c_kode_arah_karo = []\n",
    "c_kode_arah_mandailing = []\n",
    "c_kode_arah_pakpak = []\n",
    "c_kode_arah_simalungun = []\n",
    "c_kode_arah_toba = []\n",
    "for i in Karo:\n",
    "    for a in range(1,tot):\n",
    "        c_kode_arah_karo.append(count_kode_arah(karo_arah[i][str(a)]))\n",
    "for i in Mandailing:\n",
    "    for a in range(1,tot):\n",
    "        c_kode_arah_mandailing.append(count_kode_arah(mandailing_arah[i][str(a)]))\n",
    "for i in Pakpak:\n",
    "    for a in range(1,tot):\n",
    "        c_kode_arah_pakpak.append(count_kode_arah(pakpak_arah[i][str(a)]))\n",
    "for i in Simalungun:\n",
    "    for a in range(1,tot):\n",
    "        c_kode_arah_simalungun.append(count_kode_arah(simalungun_arah[i][str(a)]))\n",
    "for i in Toba:\n",
    "    for a in range(1,tot):\n",
    "        c_kode_arah_toba.append(count_kode_arah(toba_arah[i][str(a)]))"
   ]
  },
  {
   "cell_type": "code",
   "execution_count": null,
   "metadata": {},
   "outputs": [],
   "source": [
    "import pandas as pd\n",
    "lihat_karo = np.column_stack((c_kode_arah_karo, dtset_karo))\n",
    "df2 = pd.DataFrame(lihat_karo,columns=['K[0]', 'K[1]', 'K[2]','K[3]','K[4]','K[5]','K[6]','K[7]','Label'])\n",
    "df2"
   ]
  },
  {
   "cell_type": "code",
   "execution_count": null,
   "metadata": {},
   "outputs": [],
   "source": [
    "from sklearn.neural_network import MLPClassifier\n",
    "clf_karo = MLPClassifier(alpha=0.000000001,hidden_layer_sizes=(100,100,100), max_iter=10000,random_state=0)\n",
    "clf_mandailing = MLPClassifier(alpha=0.000000001,hidden_layer_sizes=(100,100,100), max_iter=10000,random_state=0)\n",
    "clf_pakpak = MLPClassifier(alpha=0.0000000001,hidden_layer_sizes=(100,100,100), max_iter=10000,random_state=0)\n",
    "clf_simalungun = MLPClassifier(alpha=0.00000001,hidden_layer_sizes=(100,100,100), max_iter=10000,random_state=13423)\n",
    "clf_toba = MLPClassifier(alpha=0.000000001,hidden_layer_sizes=(100,100,100), max_iter=10000,random_state=0)"
   ]
  },
  {
   "cell_type": "code",
   "execution_count": null,
   "metadata": {},
   "outputs": [],
   "source": [
    "clf_karo.fit(c_kode_arah_karo,dtset_karo)"
   ]
  },
  {
   "cell_type": "code",
   "execution_count": null,
   "metadata": {},
   "outputs": [],
   "source": [
    "clf_mandailing.fit(c_kode_arah_mandailing,dtset_mandailing)"
   ]
  },
  {
   "cell_type": "code",
   "execution_count": null,
   "metadata": {},
   "outputs": [],
   "source": [
    "clf_pakpak.fit(c_kode_arah_pakpak,dtset_pakpak)"
   ]
  },
  {
   "cell_type": "code",
   "execution_count": null,
   "metadata": {},
   "outputs": [],
   "source": [
    "clf_simalungun.fit(c_kode_arah_simalungun,dtset_simalungun)"
   ]
  },
  {
   "cell_type": "code",
   "execution_count": null,
   "metadata": {},
   "outputs": [],
   "source": [
    "clf_toba.fit(c_kode_arah_toba,dtset_toba)"
   ]
  },
  {
   "cell_type": "code",
   "execution_count": null,
   "metadata": {},
   "outputs": [],
   "source": [
    "# Data Testing untuk akurasi\n",
    "dtest_karo = []\n",
    "dtest_mandailing = []\n",
    "dtest_pakpak = []\n",
    "dtest_simalungun = []\n",
    "dtest_toba = []\n",
    "tot = 11\n",
    "for i in Karo:\n",
    "    for a in range(8,tot):\n",
    "        dtest_karo.append(i)\n",
    "for i in Mandailing:\n",
    "    for a in range(8,tot):\n",
    "        dtest_mandailing.append(i)\n",
    "for i in Pakpak:\n",
    "    for a in range(8,tot):\n",
    "        dtest_pakpak.append(i)\n",
    "for i in Simalungun:\n",
    "    for a in range(8,tot):\n",
    "        dtest_simalungun.append(i)\n",
    "for i in Toba:\n",
    "    for a in range(8,tot):\n",
    "        dtest_toba.append(i)"
   ]
  },
  {
   "cell_type": "code",
   "execution_count": null,
   "metadata": {},
   "outputs": [],
   "source": [
    "c_kode_arah_karo_t = []\n",
    "c_kode_arah_mandailing_t = []\n",
    "c_kode_arah_pakpak_t = []\n",
    "c_kode_arah_simalungun_t = []\n",
    "c_kode_arah_toba_t = []\n",
    "for i in Karo:\n",
    "    for a in range(8,tot):\n",
    "        c_kode_arah_karo_t.append(count_kode_arah(karo_arah[i][str(a)]))\n",
    "for i in Mandailing:\n",
    "    for a in range(8,tot):\n",
    "        c_kode_arah_mandailing_t.append(count_kode_arah(mandailing_arah[i][str(a)]))\n",
    "for i in Pakpak:\n",
    "    for a in range(8,tot):\n",
    "        c_kode_arah_pakpak_t.append(count_kode_arah(pakpak_arah[i][str(a)]))\n",
    "for i in Simalungun:\n",
    "    for a in range(8,tot):\n",
    "        c_kode_arah_simalungun_t.append(count_kode_arah(simalungun_arah[i][str(a)]))\n",
    "for i in Toba:\n",
    "    for a in range(8,tot):\n",
    "        c_kode_arah_toba_t.append(count_kode_arah(toba_arah[i][str(a)]))"
   ]
  },
  {
   "cell_type": "code",
   "execution_count": null,
   "metadata": {},
   "outputs": [],
   "source": [
    "print('Akurasi untuk huruf Karo')\n",
    "print('ACCURACY USING DATA TRAINING : ' + str(clf_karo.score(c_kode_arah_karo,dtset_karo))) # ACCURACY USING DATA TRAINING\n",
    "print('ACCURACY USING DATA TESTING  : ' + str(clf_karo.score(c_kode_arah_karo_t,dtest_karo))) #ACCURACY USING DATA TESTING\n",
    "print()\n",
    "print('Akurasi untuk huruf Mandailing')\n",
    "print('ACCURACY USING DATA TRAINING : ' + str(clf_mandailing.score(c_kode_arah_mandailing,dtset_mandailing))) # ACCURACY USING DATA TRAINING\n",
    "print('ACCURACY USING DATA TESTING  : ' + str(clf_mandailing.score(c_kode_arah_mandailing_t,dtest_mandailing))) #ACCURACY USING DATA TESTING\n",
    "print()\n",
    "print('Akurasi untuk huruf Pakpak')\n",
    "print('ACCURACY USING DATA TRAINING : ' + str(clf_pakpak.score(c_kode_arah_pakpak,dtset_pakpak))) # ACCURACY USING DATA TRAINING\n",
    "print('ACCURACY USING DATA TESTING  : ' + str(clf_pakpak.score(c_kode_arah_pakpak_t,dtest_pakpak))) #ACCURACY USING DATA TESTING\n",
    "print()\n",
    "print('Akurasi untuk huruf Simalungun')\n",
    "print('ACCURACY USING DATA TRAINING : ' + str(clf_simalungun.score(c_kode_arah_simalungun,dtset_simalungun)) ,# ACCURACY USING DATA TRAINING\n",
    "print('ACCURACY USING DATA TESTING  : ' + str(clf_simalungun.score(c_kode_arah_simalungun_t,dtest_simalungun))),\n",
    "print(),\n",
    "print('Akurasi untuk huruf Toba'),\n",
    "print('ACCURACY USING DATA TRAINING : ' + str(clf_toba.score(c_kode_arah_toba,dtset_toba))), # ACCURACY USING DATA TRAINING\n",
    "print('ACCURACY USING DATA TESTING  : ' + str(clf_toba.score(c_kode_arah_toba_t,dtest_toba))), #ACCURACY USING DATA TESTING"
   ]
  },
  {
   "cell_type": "code",
   "execution_count": null,
   "metadata": {},
   "outputs": [],
   "source": [
    "clf_karo.predict([[0.166666666666666,0.16666666666666666,1.1333333333333333,0.16666666666666666,0.166666666666666,0.16666666666666666,1.1333333333333333,0.16666666666666666]]),"
   ]
  },
  {
   "cell_type": "code",
   "execution_count": null,
   "metadata": {},
   "outputs": [],
   "source": [
    "import os\n",
    "\n",
    "print(os.listdir(\"../DatasetBatakLanguage/Karo Final\"))"
   ]
  },
  {
   "cell_type": "code",
   "execution_count": null,
   "metadata": {},
   "outputs": [],
   "source": [
    "alamat = '../DatasetBatakLanguage/Karo Final/A/7.png'\n",
    "img = cv2.imread(alamat),\n",
    "gambar = preprocessing(img),\n",
    "dfe = make_a(gambar),\n",
    "kode_arah = count_kode_arah(dfe),\n",
    "clf_karo.predict([kode_arah])"
   ]
  },
  {
   "cell_type": "code",
   "execution_count": null,
   "metadata": {},
   "outputs": [],
   "source": []
  }
 ],
 "metadata": {
  "kernelspec": {
   "display_name": "Python 3 (ipykernel)",
   "language": "python",
   "name": "python3"
  },
  "language_info": {
   "codemirror_mode": {
    "name": "ipython",
    "version": 3
   },
   "file_extension": ".py",
   "mimetype": "text/x-python",
   "name": "python",
   "nbconvert_exporter": "python",
   "pygments_lexer": "ipython3",
   "version": "3.8.5"
  }
 },
 "nbformat": 4,
 "nbformat_minor": 1
}
